{
 "cells": [
  {
   "cell_type": "code",
   "execution_count": 4,
   "metadata": {},
   "outputs": [],
   "source": [
    "import math\n",
    "import scipy                    \n",
    "import scipy.io.wavfile          # reading in data from image\n",
    "import scipy.ndimage             # rescaling of image using ndimage.zoom()\n",
    "import numpy as np               # for the common np.arrays\n",
    "import matplotlib.pyplot as plt  # For useful plotting of spectogram and periodogram\n",
    "\n",
    "import wave                      # wave - allows for the reading/writing of audio files with the .wav format\n",
    "\n",
    "from PIL import Image            # Image Module from Python Imaging Library - allows for the simple manipulation\n",
    "                                 #      of images. Required for: \n",
    "                                 #           - opening the image (Image.open(\"<filename>\") )  \n",
    "                                 #           - converting the image to grayscale (Image.open().convert(\"L\"))\n",
    "\n",
    "import IPython.display           # for playing back audio using IPython.display.Audio()"
   ]
  },
  {
   "cell_type": "code",
   "execution_count": 12,
   "metadata": {},
   "outputs": [],
   "source": [
    "#Spectogram - freq vs time\n",
    "def plotSpectogram(file=\"pic2sound.wav\"):\n",
    "    sample_rate, X = scipy.io.wavfile.read(file)         #returns the sample rate (samp/sec) and the data from the WAV file\n",
    "    plt.specgram(X, Fs=sample_rate, xextent=(0,60))      #returns spectrum(2D), freqs(1D), t(1D midpt segment, AKA columns \n",
    "    print(\"File: \", file)                                #    of spectrum), and the Image produced (plotted spectrum). \n",
    "    print(\"Sample rate (Hz): \",sample_rate)              #    Already computes NFFT for split segments (of array) and returns\n",
    "                                                         #    a colormap\n",
    "#Periodogram - power vs freq\n",
    "def plotPeriodogram(file=\"pic2sound.wav\"):\n",
    "    sample_rate, X = scipy.io.wavfile.read(file)\n",
    "    plt.psd(X, Fs=sample_rate)                          #returns power spectrum(real mean of segments), freqs, line graph \n",
    "    print(\"File: \", file)                               #     Also, computes FFT\n",
    "    print(\"Sample rate (Hz): \",sample_rate)\n",
    "    \n",
    "def plotMat(mat):\n",
    "    fmat = np.flipud(mat)                                              #vertically flips a given array\n",
    "    X, Y = np.meshgrid(range(fmat.shape[0]), range(fmat.shape[1]))     #meshgrid(a, b) => inputs n coordinate arrays\n",
    "                                                                       #               => outputs n dim array of repeated arrays\n",
    "                                                                       #range(1, 5) => sequence of numbers 1 to 5 in order\n",
    "    Z = fmat[X,Y]                                                      #.shape => (#columns, #rows, etc.)\n",
    "    plt.pcolormesh(Y,X,Z)\n",
    "    plt.show()"
   ]
  },
  {
   "cell_type": "code",
   "execution_count": null,
   "metadata": {},
   "outputs": [],
   "source": [
    "def loadPicture(size, file, verbose=1):\n",
    "    img = Image.open(file).convert(\"L\")                 # opens the file and grayscales the image instance\n",
    "                                                        # turns the instance into an array\n",
    "                                                        # \n",
    "    imgArr = np.array(img)\n",
    "    if verbose:\n",
    "        print(\"Image original size: \", imgArr.shape)\n",
    "        \n",
    "    # Increase the contrast of the image\n",
    "    imgArr = imgArr/np.max(imgArr)\n",
    "    imgArr = 1/(imgArr+10**15.2)\n",
    "    \n",
    "    # Scale between 0 and 1\n",
    "    imgArr -= np.min(imgArr)\n",
    "    imgArr = imgArr/np.max(imgArr)\n",
    "    \n",
    "    # Remove low pixel values\n",
    "    removeLowValues = np.vectorize(lambda x: x if x > 0.5 else 0, otypes=[np.float])\n",
    "    imgArr = removeLowValues(imgArr)\n",
    "    \n",
    "    if size[0] == 0:\n",
    "        size = imgArr.shape[0], size[1]\n",
    "    if size[1] == 0:\n",
    "        size = size[0], imgArr.shape[1]\n",
    "    resamplingFactor = size[0]/imgArr.shape[0], size[1]/imgArr.shape[1]\n",
    "    if resamplingFactor[0] == 0:\n",
    "        resamplingFactor = 1, resamplingFactor[1]\n",
    "    if resamplingFactor[1] == 0:\n",
    "        resamplingFactor = resamplingFactor[0], 1\n",
    "    \n",
    "    # Order : 0=nearestNeighbour, 1:bilinear, 2:cubic etc...\n",
    "    imgArr = scipy.ndimage.zoom(imgArr, resamplingFactor, order=0)\n",
    "    \n",
    "    if verbose:\n",
    "        print(\"Resampling factor\", resamplingFactor)\n",
    "        print(\"Image resized :\", imgArr.shape)\n",
    "        print(\"Max intensity: \", np.max(imgArr))\n",
    "        print(\"Min intensity: \", np.min(imgArr))\n",
    "        plotMat(imgArr)\n",
    "    return imgArr"
   ]
  },
  {
   "cell_type": "code",
   "execution_count": 24,
   "metadata": {},
   "outputs": [],
   "source": [
    "# see blog attatched below because the writing of the WAV file is from there. we just fill it with the picture information in 1D\n",
    "\n",
    "def genSoundFromImage(file, output=\"sound.wav\", duration=5.0, sampleRate=44100.0):\n",
    "    wavef = wave.open(output,'w')                                           #makes sure to write a WAV file\n",
    "    wavef.setnchannels(1)                                                   #makes sure it is a mono-sound\n",
    "    wavef.setsampwidth(2)                                                   #sets 2 bytes per frame\n",
    "    wavef.setframerate(sampleRate)                                          #sets frame rate to sample rate (44100.0 Hz)\n",
    "    \n",
    "    max_frame = int(duration * sampleRate)                                  # maximum frame to an integer of the time and sample rate (cannot exceed this)\n",
    "    max_freq = 22000                                                        # the maximum frequency is 22000 Hz (cannot exceed this)\n",
    "                                                                            #   --- the maximum Hz the human ear can hear\n",
    "    max_intensity = 32767                                                   # maximum intensity is 32767 (cannot exceed this) \n",
    "                                                                                  #    --- max byte value that the computer can hold\n",
    "    \n",
    "    stepSize = 400                                                          # The step between the sounds is 400 Hz\n",
    "    steppingSpectrum = int(max_freq/stepSize)                               #??? # The step between the spectrum is an integer (22000/400) \n",
    "    \n",
    "    imgMat = loadPicture((steppingSpectrum, max_frame), file, verbose=0)    # Verbose=0 shows nothing in the training progress \n",
    "                                                                            #     - calls function def from above and loads it within a certain size\n",
    "    imgMat *= max_intensity                                                 # Image matrix = image matrix times the the max intensity\n",
    "                                                                            #??? #     - makes image matrix the maximum intensity it could possibly be \n",
    "    print(\"Input: \", file)                                                  # Prints out \"Input: file name\"\n",
    "    print(\"Duration (in seconds): \", duration)                              # Prints out \"Duration (in seconds): the duration of the sound\"\n",
    "    print(\"Sample rate: \", sampleRate)                                      # Prints out \"Sample rate: 44100\"\n",
    "    print(\"Computing each soundframe sum value..\")                          # Prints out \"Computing each sound frame sum value..\" and then the code below it \n",
    "                                                                            #     shows what this is\n",
    "        \n",
    "    for frame in range(max_frame):                                          # For loop for frames up to the maximum\n",
    "        #Runs the progress meter\n",
    "        if frame % 60 == 0:                                                 # If the frame is modulus of 60 then set it equal to 0\n",
    "                                                                            #     - this prints it only once in a while, prints it out ever 60    \n",
    "            IPython.display.clear_output(wait=True)                         # Clears the output of the current cell recieving the output\n",
    "                                                                            #     - from what I can tell it does not wait to recieve until a new ouput is there\n",
    "            print(\"Progress: ==> {:.2%}\".format(frame/max_frame), end=\"\\r\") # Prints out progress in steps of 0.2%....\n",
    "  \n",
    "        signalValue, count = 0, 0                                           #??? # counts how many times signalValue is 0 (creates two variables and sets equal to 0)\n",
    "        \n",
    "        for step in range(steppingSpectrum):                                # starts another for loop where the step size is a maximum of stepping spectrum\n",
    "            intensity = imgMat[step, frame]                                 # sets intensity to the image matrices of step and frame\n",
    "            if intensity == 0:                                              # if the intesity is 0 then you go on to the next part otherwise end the for loop\n",
    "                continue\n",
    "            # nextFreq is less than currentFreq\n",
    "            currentFreq = max_freq - step * stepSize                        # Sets current frequency to max frequency - (number of steps multiplied by the step size) \n",
    "            nextFreq = max_freq - (step+1) * stepSize                       # The next frequency in the series is the the maximum frequency of one more step multiplied \n",
    "                                                                            #  multiplied by the step size. The Next Frequency is less than the current frequency\n",
    "            if nextFreq < 0:                                                # If we're at the end of the spectrum then the next frequency is 0 and you start another for loop.\n",
    "                nextFreq = 0\n",
    "            for freq in range(nextFreq, currentFreq, 1000):                                      # substep of 1000 Hz is good\n",
    "                signalValue += intensity*math.cos(freq*2*math.pi*float(frame)/float(sampleRate)) #This section changes the signal value to the intensity multiplied by cos(2pi*frame/sample Rate)\n",
    "                                                                            # ???\n",
    "                count += 1                                                  # increases the count rate by 1\n",
    "        if count == 0: count = 1                                            #??? # if the count is 0 then change it to 1\n",
    "        signalValue /= count                                                # the new signal value is the original divided by the new count rate\n",
    "        \n",
    "        data = struct.pack('<h', int(signalValue))                                      # data is equal to the string of the interger value of signalValue \n",
    "                                                                                        # no way to indicate forced byte-swapping of the short (working in ugh binary)\n",
    "                                                                                        # \"'<h'means pack the data as a short integer in little endian format\"\n",
    "        wavef.writeframesraw( data )                                                    # This adds frames to the file passed to it\n",
    "        \n",
    "    wavef.writeframes(''.encode())                                                     # does not add any data but recomputes appropriate info into header\n",
    "    wavef.close()                                                                      #this closes the file\n",
    "    print(\"\\nProgress: ==> 100%\")                                                      # Prints the progress\n",
    "    print(\"Output: \", output)                                                          # Prints the output which is the sound and what we named 'sound.wav' at the beginning"
   ]
  },
  {
   "cell_type": "code",
   "execution_count": 8,
   "metadata": {},
   "outputs": [
    {
     "data": {
      "image/png": "[encoded data removed]",
      "text/plain": [
       "<Figure size 432x288 with 1 Axes>"
      ]
     },
     "metadata": {
      "needs_background": "light"
     },
     "output_type": "display_data"
    }
   ],
   "source": [
    "plotPeriodogram(\"pic2sound.wav\")"
   ]
  },
  {
   "cell_type": "code",
   "execution_count": null,
   "metadata": {},
   "outputs": [],
   "source": [
    "plotSpectogram(\"pic2sound.wav\")"
   ]
  },
  {
   "cell_type": "code",
   "execution_count": null,
   "metadata": {},
   "outputs": [],
   "source": []
  },
  {
   "cell_type": "code",
   "execution_count": null,
   "metadata": {},
   "outputs": [],
   "source": []
  }
 ],
 "metadata": {
  "kernelspec": {
   "display_name": "Python 3",
   "language": "python",
   "name": "python3"
  },
  "language_info": {
   "codemirror_mode": {
    "name": "ipython",
    "version": 3
   },
   "file_extension": ".py",
   "mimetype": "text/x-python",
   "name": "python",
   "nbconvert_exporter": "python",
   "pygments_lexer": "ipython3",
   "version": "3.7.3"
  }
 },
 "nbformat": 4,
 "nbformat_minor": 4
}
